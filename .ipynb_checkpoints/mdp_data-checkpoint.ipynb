{
 "cells": [
  {
   "cell_type": "code",
   "execution_count": 1,
   "id": "2c3fc89c-f9b7-4623-a0b6-37540842568e",
   "metadata": {},
   "outputs": [],
   "source": [
    "#import tensorflow as tf\n",
    "from pyinfusion import TransitionDynamic\n",
    "import pandas as pd\n",
    "import numpy as np\n",
    "import json"
   ]
  },
  {
   "cell_type": "markdown",
   "id": "7153a12c-a65f-464e-8b38-276da8ef7639",
   "metadata": {},
   "source": [
    "## Preparing the Data based on Action"
   ]
  },
  {
   "cell_type": "code",
   "execution_count": 2,
   "id": "a79b0151-121a-4649-bb43-181e89b5b015",
   "metadata": {},
   "outputs": [],
   "source": [
    "def prepare_data(infusion_data, maintenance_data, num_actions = 2):\n",
    "    \n",
    "    ## insert repair label\n",
    "    maintenance_data['repair'] = np.where(maintenance_data.PartCost.notnull(), 1, 0)\n",
    "\n",
    "    # \n",
    "    maint_df = maintenance_data.copy()\n",
    "\n",
    "    ## group the maintenance df\n",
    "    maint_df = maint_df.groupby('WO_WO#').agg({'repair': 'first'}).reset_index()\n",
    "\n",
    "    ## left join the infusion data and maintenance data\n",
    "    infusion_data = infusion_data.merge(maint_df, how='left',\n",
    "                                       left_on = 'WO_WO#', right_on = 'WO_WO#')\n",
    "\n",
    "    ## split the infusion_data into scenarios of repair and non_repair\n",
    "    split_data = {}\n",
    "\n",
    "    for i in range(num_actions):\n",
    "        split_data[i] = {'infusion_log' : infusion_data[infusion_data.repair == i],\n",
    "                         'maintenance_log' : maintenance_data[maintenance_data.repair == i]\n",
    "                        }\n",
    "\n",
    "    return split_data"
   ]
  },
  {
   "cell_type": "markdown",
   "id": "b5bc72c5-9c20-4927-add5-8488c33edcef",
   "metadata": {},
   "source": [
    "# Single Agent"
   ]
  },
  {
   "cell_type": "markdown",
   "id": "019d5981-3c5b-4962-b4c2-1d0b39f373f7",
   "metadata": {},
   "source": [
    "## Computing Transition Matrix - Single Agent"
   ]
  },
  {
   "cell_type": "code",
   "execution_count": 3,
   "id": "8cfd248d-d313-4ef4-ade5-345ba551355b",
   "metadata": {},
   "outputs": [],
   "source": [
    "def action_transition_matrix(prepped_failure_info, num_actions, states, col_name = 'PCUSerialNumber'):\n",
    "    trans_matrices = {}\n",
    "\n",
    "    for i in range(num_actions):\n",
    "        action_infusion_information = prepped_failure_info[i]['infusion_log']\n",
    "        action_maint_information = prepped_failure_info[i]['maintenance_log']\n",
    "\n",
    "        # instantitate the Transition Dynamic\n",
    "        transition_dynamic = TransitionDynamic(infusion_log = action_infusion_information,\n",
    "                                               maintenance_log = action_maint_information,\n",
    "                                               col_name = col_name,\n",
    "                                               states = states)\n",
    "\n",
    "        # calculate the the DTMC matrix\n",
    "        trans_matrices[i] = transition_dynamic.system_environment(group_assets=True)\n",
    "\n",
    "    return trans_matrices"
   ]
  },
  {
   "cell_type": "markdown",
   "id": "d155b08b-db98-4f7c-a655-c5b9eeb9ac87",
   "metadata": {},
   "source": [
    "# Multi Agent "
   ]
  },
  {
   "cell_type": "markdown",
   "id": "862d2967-84ac-43c2-a629-396780386061",
   "metadata": {},
   "source": [
    "## Compute Transition Matrix - Multi Agent"
   ]
  },
  {
   "cell_type": "code",
   "execution_count": 4,
   "id": "729db249-2563-4ebb-8058-79be18ac3b9a",
   "metadata": {},
   "outputs": [],
   "source": [
    "def select_agent(transition_matrix_, agents_id, num_actions):\n",
    "    agents_trans_env = [] # store agents transition information\n",
    "    transition_evironment = {} # store the transition matrix for each action\n",
    "\n",
    "    for agent in agents_id:\n",
    "        transition_environment = {}\n",
    "\n",
    "        for action in range(num_actions):\n",
    "            transition_environment[action] = transition_matrix_[action][agent]['dtmc_matrix_pandas'].to_json(orient='records')\n",
    "\n",
    "        agents_trans_env.append(transition_environment)\n",
    "\n",
    "    return agents_trans_env"
   ]
  },
  {
   "cell_type": "markdown",
   "id": "880b946c-3dad-4688-b677-01753dc575ad",
   "metadata": {},
   "source": [
    "## Compute Cost - Multi Agent\n",
    "- Assume Fixed Cost for Transition State based on Generalized Cost Info"
   ]
  },
  {
   "cell_type": "code",
   "execution_count": 5,
   "id": "8a240832-de3b-4f2e-9eed-bf728d8e1a78",
   "metadata": {},
   "outputs": [],
   "source": [
    "def cost_multi_agent(costs_single, num_agents):\n",
    "    return [costs_single for agent in range(num_agents)]"
   ]
  },
  {
   "cell_type": "markdown",
   "id": "ff836189-bf7e-45d1-be10-4dceb3c60ad3",
   "metadata": {},
   "source": [
    "# Obtain Agent Information"
   ]
  },
  {
   "cell_type": "code",
   "execution_count": 6,
   "id": "881a62dd-68a4-41ac-925a-19d5475e3766",
   "metadata": {},
   "outputs": [
    {
     "data": {
      "text/html": [
       "<div>\n",
       "<style scoped>\n",
       "    .dataframe tbody tr th:only-of-type {\n",
       "        vertical-align: middle;\n",
       "    }\n",
       "\n",
       "    .dataframe tbody tr th {\n",
       "        vertical-align: top;\n",
       "    }\n",
       "\n",
       "    .dataframe thead th {\n",
       "        text-align: right;\n",
       "    }\n",
       "</style>\n",
       "<table border=\"1\" class=\"dataframe\">\n",
       "  <thead>\n",
       "    <tr style=\"text-align: right;\">\n",
       "      <th></th>\n",
       "      <th>PCUSerialNumber</th>\n",
       "      <th>WO_Requested</th>\n",
       "      <th>WO_WO#</th>\n",
       "      <th>WO_Type</th>\n",
       "      <th>ActiveStartTime</th>\n",
       "      <th>ActiveStopTime</th>\n",
       "      <th>TotalInfusionTime</th>\n",
       "      <th>TotalEqActiveTime</th>\n",
       "    </tr>\n",
       "  </thead>\n",
       "  <tbody>\n",
       "    <tr>\n",
       "      <th>0</th>\n",
       "      <td>12828160</td>\n",
       "      <td>2020-08-19</td>\n",
       "      <td>682305</td>\n",
       "      <td>CEIN</td>\n",
       "      <td>2020-01-02 18:14:58</td>\n",
       "      <td>2020-08-15 09:07:06</td>\n",
       "      <td>40707750</td>\n",
       "      <td>52291662</td>\n",
       "    </tr>\n",
       "    <tr>\n",
       "      <th>1</th>\n",
       "      <td>12828160</td>\n",
       "      <td>2021-08-19</td>\n",
       "      <td>742583</td>\n",
       "      <td>CEIN</td>\n",
       "      <td>2020-08-18 22:37:09</td>\n",
       "      <td>2020-12-31 20:39:32</td>\n",
       "      <td>27605763</td>\n",
       "      <td>32650026</td>\n",
       "    </tr>\n",
       "  </tbody>\n",
       "</table>\n",
       "</div>"
      ],
      "text/plain": [
       "   PCUSerialNumber WO_Requested  WO_WO# WO_Type      ActiveStartTime  \\\n",
       "0         12828160   2020-08-19  682305    CEIN  2020-01-02 18:14:58   \n",
       "1         12828160   2021-08-19  742583    CEIN  2020-08-18 22:37:09   \n",
       "\n",
       "        ActiveStopTime  TotalInfusionTime  TotalEqActiveTime  \n",
       "0  2020-08-15 09:07:06           40707750           52291662  \n",
       "1  2020-12-31 20:39:32           27605763           32650026  "
      ]
     },
     "execution_count": 6,
     "metadata": {},
     "output_type": "execute_result"
    }
   ],
   "source": [
    "# importing the data\n",
    "pcu_failure_info = pd.read_csv('/Users/mobolajishobanke/Desktop/Fall Research/NN_Class_Project/pcu_failure_information.csv')\n",
    "\n",
    "## check sample\n",
    "pcu_failure_info.head(2)"
   ]
  },
  {
   "cell_type": "code",
   "execution_count": 7,
   "id": "4e9d3369-7a56-4f13-9ae0-2aa2f163b914",
   "metadata": {},
   "outputs": [
    {
     "data": {
      "text/plain": [
       "Index(['Asset_Status', 'Asset_AssetID', 'Asset_Serial', 'Asset_AssetPK',\n",
       "       'Asset_Classification', 'Asset_Model', 'Asset_Manufacturer',\n",
       "       'Asset_InstallDate', 'WO_WO#', 'WO_Requested', 'WO_Closed', 'WO_Type',\n",
       "       'WO_Type_Desc', 'WO_Substatus', 'WO_Problem', 'WO_Failure',\n",
       "       'WO_Solution', 'PartID', 'PartName', 'PartCost', 'WO_Reason',\n",
       "       'WO_LaborReport'],\n",
       "      dtype='object')"
      ]
     },
     "execution_count": 7,
     "metadata": {},
     "output_type": "execute_result"
    }
   ],
   "source": [
    "## reading in the maintenance data\n",
    "maintenance_data = pd.read_excel('/Users/mobolajishobanke/Desktop/Fall Research/NN_Class_Project/maintenance_data_2005_2022.xlsx')\n",
    "\n",
    "## filter based on CEIN, CECM, HZARD\n",
    "maintenance_data = maintenance_data[maintenance_data.WO_Type.isin(['CECM', 'CEIN', 'HZARC'])]\n",
    "\n",
    "maintenance_data.columns"
   ]
  },
  {
   "cell_type": "code",
   "execution_count": 8,
   "id": "d6cdd83a-7fd9-4b20-bb04-8ccc9dc1b6c3",
   "metadata": {},
   "outputs": [
    {
     "name": "stdout",
     "output_type": "stream",
     "text": [
      "dict_keys([0, 1])\n",
      "dict_keys(['infusion_log', 'maintenance_log'])\n"
     ]
    }
   ],
   "source": [
    "# compute prepped data from infusion and maintenance data\n",
    "failure_info = prepare_data(infusion_data = pcu_failure_info,\n",
    "                           maintenance_data = maintenance_data)\n",
    "\n",
    "print(failure_info.keys())\n",
    "print(failure_info[0].keys())"
   ]
  },
  {
   "cell_type": "code",
   "execution_count": 9,
   "id": "179c3f56-cf96-409f-b8b3-26f19d817698",
   "metadata": {},
   "outputs": [
    {
     "data": {
      "text/html": [
       "<div>\n",
       "<style scoped>\n",
       "    .dataframe tbody tr th:only-of-type {\n",
       "        vertical-align: middle;\n",
       "    }\n",
       "\n",
       "    .dataframe tbody tr th {\n",
       "        vertical-align: top;\n",
       "    }\n",
       "\n",
       "    .dataframe thead th {\n",
       "        text-align: right;\n",
       "    }\n",
       "</style>\n",
       "<table border=\"1\" class=\"dataframe\">\n",
       "  <thead>\n",
       "    <tr style=\"text-align: right;\">\n",
       "      <th></th>\n",
       "      <th>PartCost</th>\n",
       "    </tr>\n",
       "    <tr>\n",
       "      <th>WO_Type</th>\n",
       "      <th></th>\n",
       "    </tr>\n",
       "  </thead>\n",
       "  <tbody>\n",
       "    <tr>\n",
       "      <th>CECM</th>\n",
       "      <td>60.731572</td>\n",
       "    </tr>\n",
       "    <tr>\n",
       "      <th>CEIN</th>\n",
       "      <td>28.667771</td>\n",
       "    </tr>\n",
       "    <tr>\n",
       "      <th>HZARC</th>\n",
       "      <td>18.190441</td>\n",
       "    </tr>\n",
       "  </tbody>\n",
       "</table>\n",
       "</div>"
      ],
      "text/plain": [
       "          PartCost\n",
       "WO_Type           \n",
       "CECM     60.731572\n",
       "CEIN     28.667771\n",
       "HZARC    18.190441"
      ]
     },
     "execution_count": 9,
     "metadata": {},
     "output_type": "execute_result"
    }
   ],
   "source": [
    "## obtain maintenance cost per state\n",
    "maint_costs =  maintenance_data.groupby('WO_Type').agg({'PartCost':'mean'})\n",
    "maint_costs"
   ]
  },
  {
   "cell_type": "code",
   "execution_count": 10,
   "id": "51d2bc52-5f7c-427f-a0e7-6e843c7c52e8",
   "metadata": {},
   "outputs": [
    {
     "data": {
      "text/plain": [
       "['infusing', 'CEIN', 'CECM', 'HZARC']"
      ]
     },
     "execution_count": 10,
     "metadata": {},
     "output_type": "execute_result"
    }
   ],
   "source": [
    "# all states in the system\n",
    "states_ = ['infusing'] + maintenance_data.WO_Type.unique().tolist()\n",
    "states_"
   ]
  },
  {
   "cell_type": "code",
   "execution_count": 11,
   "id": "e9b446fa-0a8b-4ded-affe-29b1dacbf4b3",
   "metadata": {},
   "outputs": [],
   "source": [
    "# create cost for all states. It is assumed that it is more expensive to not carry out a repair if a system breaks down\n",
    "costs = {\n",
    "    0:{0: 0.0, 1: 0, 2: 160.73, 3: 118.19},\n",
    "    1: {0: 0.0, 1: 28.67, 2: 60.73, 3: 18.19}\n",
    "}"
   ]
  },
  {
   "cell_type": "code",
   "execution_count": 12,
   "id": "a071a9dc-f55d-4541-8aa8-ed7e73c4ca2b",
   "metadata": {},
   "outputs": [
    {
     "name": "stderr",
     "output_type": "stream",
     "text": [
      "Transtion Matrix Computation: 100%|██████████| 1016/1016 [00:02<00:00, 376.38it/s]\n",
      "Transtion Matrix Computation: 100%|██████████| 1381/1381 [00:03<00:00, 435.13it/s]\n"
     ]
    }
   ],
   "source": [
    "# compute the action transition matrices for all agents\n",
    "transition_matrices_all_agents = action_transition_matrix(prepped_failure_info = failure_info, \n",
    "                                                         num_actions = 2,\n",
    "                                                         states = states_)"
   ]
  },
  {
   "cell_type": "markdown",
   "id": "528731c0-ba81-4703-a5df-8ed322b0ab41",
   "metadata": {},
   "source": [
    "### Selecting Sample Agent To Be Used ValueIteration and DQN Implementation\n",
    " - use agent with the most number of occurrence in the infusion data"
   ]
  },
  {
   "cell_type": "code",
   "execution_count": 13,
   "id": "c18f87f0-fd3d-42df-86c0-27c0cd4a07da",
   "metadata": {},
   "outputs": [
    {
     "data": {
      "text/html": [
       "<div>\n",
       "<style scoped>\n",
       "    .dataframe tbody tr th:only-of-type {\n",
       "        vertical-align: middle;\n",
       "    }\n",
       "\n",
       "    .dataframe tbody tr th {\n",
       "        vertical-align: top;\n",
       "    }\n",
       "\n",
       "    .dataframe thead th {\n",
       "        text-align: right;\n",
       "    }\n",
       "</style>\n",
       "<table border=\"1\" class=\"dataframe\">\n",
       "  <thead>\n",
       "    <tr style=\"text-align: right;\">\n",
       "      <th></th>\n",
       "      <th>PCUSerialNumber</th>\n",
       "      <th>ActiveStartTime</th>\n",
       "    </tr>\n",
       "  </thead>\n",
       "  <tbody>\n",
       "    <tr>\n",
       "      <th>0</th>\n",
       "      <td>12992579</td>\n",
       "      <td>7</td>\n",
       "    </tr>\n",
       "    <tr>\n",
       "      <th>1</th>\n",
       "      <td>13923991</td>\n",
       "      <td>6</td>\n",
       "    </tr>\n",
       "    <tr>\n",
       "      <th>2</th>\n",
       "      <td>13923356</td>\n",
       "      <td>6</td>\n",
       "    </tr>\n",
       "    <tr>\n",
       "      <th>3</th>\n",
       "      <td>14154795</td>\n",
       "      <td>5</td>\n",
       "    </tr>\n",
       "    <tr>\n",
       "      <th>4</th>\n",
       "      <td>14157251</td>\n",
       "      <td>5</td>\n",
       "    </tr>\n",
       "  </tbody>\n",
       "</table>\n",
       "</div>"
      ],
      "text/plain": [
       "   PCUSerialNumber  ActiveStartTime\n",
       "0         12992579                7\n",
       "1         13923991                6\n",
       "2         13923356                6\n",
       "3         14154795                5\n",
       "4         14157251                5"
      ]
     },
     "execution_count": 13,
     "metadata": {},
     "output_type": "execute_result"
    }
   ],
   "source": [
    "occurrence_count = pcu_failure_info.groupby('PCUSerialNumber').agg({'ActiveStartTime': 'count'}).sort_values(by= 'ActiveStartTime', ascending = False).reset_index()\n",
    "agents_serial = occurrence_count.PCUSerialNumber.values.tolist()[:5]\n",
    "occurrence_count.head(5)"
   ]
  },
  {
   "cell_type": "code",
   "execution_count": 14,
   "id": "7fdaa98c-79f4-469f-8452-0626bfb2cb6a",
   "metadata": {},
   "outputs": [
    {
     "data": {
      "text/plain": [
       "[12992579, 13923991, 13923356, 14154795, 14157251]"
      ]
     },
     "execution_count": 14,
     "metadata": {},
     "output_type": "execute_result"
    }
   ],
   "source": [
    "# view agents serial\n",
    "agents_serial"
   ]
  },
  {
   "cell_type": "markdown",
   "id": "1610e4b7-c6ed-4ea0-aa87-f54ae6d24523",
   "metadata": {},
   "source": [
    "### Obtain Transition Matrix and Cost of Selected Agent"
   ]
  },
  {
   "cell_type": "code",
   "execution_count": 15,
   "id": "adf5d3db-d8d2-467b-8ff9-828f5469b7d5",
   "metadata": {},
   "outputs": [
    {
     "name": "stdout",
     "output_type": "stream",
     "text": [
      "action: 0:\n",
      "[{\"0.0\":0.0,\"1.0\":0.3333333333,\"2.0\":0.6666666667},{\"0.0\":0.0,\"1.0\":0.0,\"2.0\":1.0},{\"0.0\":0.6666666667,\"1.0\":0.0,\"2.0\":0.3333333333}] \n",
      "\n",
      "action: 1:\n",
      "[{\"0.0\":0.0,\"1.0\":0.0,\"2.0\":1.0},{\"0.0\":1.0,\"1.0\":0.0,\"2.0\":0.0},{\"0.0\":0.2,\"1.0\":0.4,\"2.0\":0.4}] \n",
      "\n"
     ]
    }
   ],
   "source": [
    "# chose agent\n",
    "chosen_agent = agents_serial[:1]\n",
    "\n",
    "agent_transition_matrix = select_agent(transition_matrix_ = transition_matrices_all_agents,\n",
    "                                      agents_id = chosen_agent,\n",
    "                                      num_actions = 2)\n",
    "\n",
    "# print transition matrices for each action\n",
    "num_actions = 2\n",
    "\n",
    "for agent in range(len(chosen_agent)):\n",
    "    for action in range(num_actions):\n",
    "        print(f'action: {action}:\\n{agent_transition_matrix[agent][action]} \\n')\n",
    "    "
   ]
  },
  {
   "cell_type": "markdown",
   "id": "8082ba21-76d2-4663-b74f-5fbe679db2f9",
   "metadata": {},
   "source": [
    "### Store Agent Interation Information in a json file for future import"
   ]
  },
  {
   "cell_type": "code",
   "execution_count": 16,
   "id": "97956758-65e9-45ef-b843-a8c7526d358e",
   "metadata": {},
   "outputs": [
    {
     "data": {
      "text/html": [
       "<div>\n",
       "<style scoped>\n",
       "    .dataframe tbody tr th:only-of-type {\n",
       "        vertical-align: middle;\n",
       "    }\n",
       "\n",
       "    .dataframe tbody tr th {\n",
       "        vertical-align: top;\n",
       "    }\n",
       "\n",
       "    .dataframe thead th {\n",
       "        text-align: right;\n",
       "    }\n",
       "</style>\n",
       "<table border=\"1\" class=\"dataframe\">\n",
       "  <thead>\n",
       "    <tr style=\"text-align: right;\">\n",
       "      <th></th>\n",
       "      <th>0.0</th>\n",
       "      <th>1.0</th>\n",
       "      <th>2.0</th>\n",
       "    </tr>\n",
       "  </thead>\n",
       "  <tbody>\n",
       "    <tr>\n",
       "      <th>0</th>\n",
       "      <td>0.000000</td>\n",
       "      <td>0.333333</td>\n",
       "      <td>0.666667</td>\n",
       "    </tr>\n",
       "    <tr>\n",
       "      <th>1</th>\n",
       "      <td>0.000000</td>\n",
       "      <td>0.000000</td>\n",
       "      <td>1.000000</td>\n",
       "    </tr>\n",
       "    <tr>\n",
       "      <th>2</th>\n",
       "      <td>0.666667</td>\n",
       "      <td>0.000000</td>\n",
       "      <td>0.333333</td>\n",
       "    </tr>\n",
       "  </tbody>\n",
       "</table>\n",
       "</div>"
      ],
      "text/plain": [
       "        0.0       1.0       2.0\n",
       "0  0.000000  0.333333  0.666667\n",
       "1  0.000000  0.000000  1.000000\n",
       "2  0.666667  0.000000  0.333333"
      ]
     },
     "execution_count": 16,
     "metadata": {},
     "output_type": "execute_result"
    }
   ],
   "source": [
    "pd.DataFrame(json.loads(agent_transition_matrix[0][0]))"
   ]
  },
  {
   "cell_type": "code",
   "execution_count": 17,
   "id": "84b1bcb8-7221-4b9f-b7b4-4851b12f46d9",
   "metadata": {},
   "outputs": [],
   "source": [
    "# store information\n",
    "#agent_information = (chosen_agent, agent_transition_matrix, costs)\n",
    "agent_information = (agent_transition_matrix, costs)\n",
    "\n",
    "# serializing infrmation for json\n",
    "agent_information = json.dumps(agent_information)\n",
    "\n",
    "with open('single_agent_historical_information.json', 'w') as file:\n",
    "    file.write(agent_information)"
   ]
  },
  {
   "cell_type": "markdown",
   "id": "24354404-e4a3-42de-93d3-b3f0a1a5ceae",
   "metadata": {},
   "source": [
    "### Selecting Multiple Agents"
   ]
  },
  {
   "cell_type": "code",
   "execution_count": 17,
   "id": "e25921d6-0a5c-43bb-aa36-149d8dfe9912",
   "metadata": {},
   "outputs": [
    {
     "name": "stdout",
     "output_type": "stream",
     "text": [
      "Agent ID: 12992579\n",
      "action: 0:\n",
      "[{\"0.0\":0.0,\"1.0\":0.3333333333,\"2.0\":0.6666666667},{\"0.0\":0.0,\"1.0\":0.0,\"2.0\":1.0},{\"0.0\":0.6666666667,\"1.0\":0.0,\"2.0\":0.3333333333}] \n",
      "\n",
      "action: 1:\n",
      "[{\"0.0\":0.0,\"1.0\":0.0,\"2.0\":1.0},{\"0.0\":1.0,\"1.0\":0.0,\"2.0\":0.0},{\"0.0\":0.2,\"1.0\":0.4,\"2.0\":0.4}] \n",
      "\n",
      "Agent ID: 13923991\n",
      "action: 0:\n",
      "[{\"0.0\":0.0,\"1.0\":0.25,\"2.0\":0.75},{\"0.0\":1.0,\"1.0\":0.0,\"2.0\":0.0},{\"0.0\":0.4,\"1.0\":0.2,\"2.0\":0.4}] \n",
      "\n",
      "action: 1:\n",
      "[{\"0.0\":0.0,\"1.0\":0.5,\"2.0\":0.5},{\"0.0\":1.0,\"1.0\":0.0,\"2.0\":0.0},{\"0.0\":0.0,\"1.0\":1.0,\"2.0\":0.0}] \n",
      "\n",
      "Agent ID: 13923356\n",
      "action: 0:\n",
      "[{\"0.0\":0.0,\"2.0\":1.0},{\"0.0\":1.0,\"2.0\":0.0}] \n",
      "\n",
      "action: 1:\n",
      "[{\"0.0\":0.0,\"1.0\":0.5,\"2.0\":0.5},{\"0.0\":0.0,\"1.0\":0.0,\"2.0\":1.0},{\"0.0\":0.6,\"1.0\":0.2,\"2.0\":0.2}] \n",
      "\n",
      "Agent ID: 14154795\n",
      "action: 0:\n",
      "[{\"0.0\":0.0,\"1.0\":0.3333333333,\"2.0\":0.6666666667},{\"0.0\":0.0,\"1.0\":0.0,\"2.0\":1.0},{\"0.0\":0.6666666667,\"1.0\":0.0,\"2.0\":0.3333333333}] \n",
      "\n",
      "action: 1:\n",
      "[{\"0.0\":0.0,\"1.0\":0.5,\"2.0\":0.5},{\"0.0\":1.0,\"1.0\":0.0,\"2.0\":0.0},{\"0.0\":0.0,\"1.0\":1.0,\"2.0\":0.0}] \n",
      "\n",
      "Agent ID: 14157251\n",
      "action: 0:\n",
      "[{\"0.0\":0.0,\"1.0\":0.5,\"2.0\":0.5},{\"0.0\":0.5,\"1.0\":0.5,\"2.0\":0.0}] \n",
      "\n",
      "action: 1:\n",
      "[{\"0.0\":0.0,\"1.0\":0.3333333333,\"2.0\":0.6666666667},{\"0.0\":1.0,\"1.0\":0.0,\"2.0\":0.0},{\"0.0\":0.0,\"1.0\":0.6666666667,\"2.0\":0.3333333333}] \n",
      "\n"
     ]
    }
   ],
   "source": [
    "# chose agent\n",
    "chosen_agent = agents_serial[:5]\n",
    "\n",
    "agent_transition_matrix = select_agent(transition_matrix_ = transition_matrices_all_agents,\n",
    "                                      agents_id = chosen_agent,\n",
    "                                      num_actions = 2)\n",
    "\n",
    "# print transition matrices for each action\n",
    "num_actions = 2\n",
    "\n",
    "for agent in range(len(chosen_agent)):\n",
    "    print('Agent ID: {}'.format(chosen_agent[agent]) )\n",
    "    for action in range(num_actions):\n",
    "        print(f'action: {action}:\\n{agent_transition_matrix[agent][action]} \\n')\n",
    "    "
   ]
  },
  {
   "cell_type": "code",
   "execution_count": 18,
   "id": "61901dff-c523-4e55-b50b-efb937e73674",
   "metadata": {},
   "outputs": [],
   "source": [
    "multiagent_cost = cost_multi_agent(costs_single =costs,\n",
    "                                   num_agents = len(chosen_agent))"
   ]
  },
  {
   "cell_type": "code",
   "execution_count": 30,
   "id": "c188fb9b-9622-41e8-a064-2f607074fe06",
   "metadata": {},
   "outputs": [],
   "source": [
    "idx_agent_idx = [0, 1, 3]\n",
    "\n",
    "selected_multiagent_choice = [agent_transition_matrix[i] for i in idx_agent_idx]\n",
    "costs_selected = [multiagent_cost[i] for i in idx_agent_idx]"
   ]
  },
  {
   "cell_type": "code",
   "execution_count": 29,
   "id": "cfa7e736-b665-4dc3-ab2d-e190ff8f0cdf",
   "metadata": {},
   "outputs": [
    {
     "data": {
      "text/plain": [
       "[{'0.0': 0.0, '1.0': 0.5, '2.0': 0.5},\n",
       " {'0.0': 1.0, '1.0': 0.0, '2.0': 0.0},\n",
       " {'0.0': 0.0, '1.0': 1.0, '2.0': 0.0}]"
      ]
     },
     "execution_count": 29,
     "metadata": {},
     "output_type": "execute_result"
    }
   ],
   "source": [
    "json.loads(agent_transition_matrix[1][1])"
   ]
  },
  {
   "cell_type": "code",
   "execution_count": 20,
   "id": "2ebe4f67-5028-481a-a36f-f41842b19595",
   "metadata": {},
   "outputs": [
    {
     "data": {
      "text/plain": [
       "{0: 0.0, 1: 28.67, 2: 60.73, 3: 18.19}"
      ]
     },
     "execution_count": 20,
     "metadata": {},
     "output_type": "execute_result"
    }
   ],
   "source": [
    "multiagent_cost[0][1]"
   ]
  },
  {
   "cell_type": "code",
   "execution_count": 31,
   "id": "8f271ae1-b13e-4423-b803-7752bbefc87a",
   "metadata": {},
   "outputs": [],
   "source": [
    " # store information\n",
    "agent_information = (selected_multiagent_choice, costs_selected)\n",
    "\n",
    "# serializing infrmation for json\n",
    "agent_information = json.dumps(agent_information)\n",
    "\n",
    "with open('transition_matrices_3_agents.json', 'w') as file:\n",
    "    file.write(agent_information)"
   ]
  },
  {
   "cell_type": "code",
   "execution_count": null,
   "id": "617dd364-87fe-4c6d-b9a9-6d748dd886e5",
   "metadata": {},
   "outputs": [],
   "source": [
    "agent_information = (chosen_agent, agent_transition_matrix, costs)"
   ]
  },
  {
   "cell_type": "code",
   "execution_count": null,
   "id": "952cb2b6-4a29-489d-b748-064022f759bf",
   "metadata": {},
   "outputs": [],
   "source": [
    "# save the agent information as a json file\n",
    "with open('single_agent_information.json', 'w') as file:\n",
    "    json.dump(agent_information, file)"
   ]
  }
 ],
 "metadata": {
  "kernelspec": {
   "display_name": "Python 3 (ipykernel)",
   "language": "python",
   "name": "python3"
  },
  "language_info": {
   "codemirror_mode": {
    "name": "ipython",
    "version": 3
   },
   "file_extension": ".py",
   "mimetype": "text/x-python",
   "name": "python",
   "nbconvert_exporter": "python",
   "pygments_lexer": "ipython3",
   "version": "3.10.15"
  }
 },
 "nbformat": 4,
 "nbformat_minor": 5
}
